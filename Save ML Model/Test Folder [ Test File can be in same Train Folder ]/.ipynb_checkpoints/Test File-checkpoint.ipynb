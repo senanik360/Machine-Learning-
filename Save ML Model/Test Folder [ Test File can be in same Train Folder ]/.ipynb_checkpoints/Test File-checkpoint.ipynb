{
 "cells": [
  {
   "cell_type": "code",
   "execution_count": 16,
   "id": "b02ac165-74d3-4400-9816-1ce1a4a10f59",
   "metadata": {},
   "outputs": [],
   "source": [
    "import warnings\n",
    "warnings.filterwarnings('ignore')"
   ]
  },
  {
   "cell_type": "code",
   "execution_count": 17,
   "id": "02af65c4-f627-4503-bde5-146a023acdbc",
   "metadata": {},
   "outputs": [],
   "source": [
    "import pickle as pk\n",
    "with open('..\\\\Train Folder\\\\Model_1', 'rb') as file: #rb means read binary\n",
    "#with open('Model_1', 'rb') as file: #rb means read binary\n",
    "    model1 = pk.load(file)"
   ]
  },
  {
   "cell_type": "code",
   "execution_count": 19,
   "id": "11e37dee-4de2-4be3-b075-3b81b22b215e",
   "metadata": {},
   "outputs": [
    {
     "data": {
      "text/plain": [
       "array(['male'], dtype=object)"
      ]
     },
     "execution_count": 19,
     "metadata": {},
     "output_type": "execute_result"
    }
   ],
   "source": [
    "model1.predict([[200, 79, 44]])"
   ]
  },
  {
   "cell_type": "code",
   "execution_count": null,
   "id": "b9f354b3-f813-43cf-8dd2-e731dbdfffa1",
   "metadata": {},
   "outputs": [],
   "source": []
  }
 ],
 "metadata": {
  "kernelspec": {
   "display_name": "Python 3 (ipykernel)",
   "language": "python",
   "name": "python3"
  },
  "language_info": {
   "codemirror_mode": {
    "name": "ipython",
    "version": 3
   },
   "file_extension": ".py",
   "mimetype": "text/x-python",
   "name": "python",
   "nbconvert_exporter": "python",
   "pygments_lexer": "ipython3",
   "version": "3.10.5"
  }
 },
 "nbformat": 4,
 "nbformat_minor": 5
}
