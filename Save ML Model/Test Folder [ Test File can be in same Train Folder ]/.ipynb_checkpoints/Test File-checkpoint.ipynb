{
 "cells": [
  {
   "cell_type": "code",
   "execution_count": null,
   "id": "02af65c4-f627-4503-bde5-146a023acdbc",
   "metadata": {},
   "outputs": [],
   "source": []
  }
 ],
 "metadata": {
  "kernelspec": {
   "display_name": "",
   "name": ""
  },
  "language_info": {
   "name": ""
  }
 },
 "nbformat": 4,
 "nbformat_minor": 5
}
