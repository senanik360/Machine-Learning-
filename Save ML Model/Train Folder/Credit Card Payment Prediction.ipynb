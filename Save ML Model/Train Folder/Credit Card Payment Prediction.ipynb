{
 "cells": [
  {
   "cell_type": "markdown",
   "id": "7fc1c91d-9778-486b-8200-d80686d3e5b5",
   "metadata": {},
   "source": [
    "# Random Forest"
   ]
  },
  {
   "cell_type": "code",
   "execution_count": 1,
   "id": "33f70b76-9b26-45e7-ad55-c6243dc094a8",
   "metadata": {},
   "outputs": [],
   "source": [
    "from sklearn.ensemble import RandomForestClassifier"
   ]
  },
  {
   "cell_type": "code",
   "execution_count": 2,
   "id": "5f8f72c2-ca3e-430f-9cda-f93896b2a72f",
   "metadata": {},
   "outputs": [],
   "source": [
    "Rclf = RandomForestClassifier(n_estimators=15)"
   ]
  },
  {
   "cell_type": "code",
   "execution_count": 6,
   "id": "6d5e74fb-5ac3-44d2-9f39-7be7cf3bcad1",
   "metadata": {},
   "outputs": [
    {
     "ename": "NameError",
     "evalue": "name 'x' is not defined",
     "output_type": "error",
     "traceback": [
      "\u001b[1;31m---------------------------------------------------------------------------\u001b[0m",
      "\u001b[1;31mNameError\u001b[0m                                 Traceback (most recent call last)",
      "Cell \u001b[1;32mIn[6], line 1\u001b[0m\n\u001b[1;32m----> 1\u001b[0m Rclf\u001b[38;5;241m.\u001b[39mfit(\u001b[43mx\u001b[49m,y)\n",
      "\u001b[1;31mNameError\u001b[0m: name 'x' is not defined"
     ]
    }
   ],
   "source": [
    "Rclf.fit(x,y)"
   ]
  },
  {
   "cell_type": "code",
   "execution_count": null,
   "id": "28de69cd-7afb-468e-93cc-177fc95d2a96",
   "metadata": {},
   "outputs": [],
   "source": []
  },
  {
   "cell_type": "code",
   "execution_count": null,
   "id": "3fcc4993-3afe-43c5-9da0-6251fe04e4fd",
   "metadata": {},
   "outputs": [],
   "source": []
  },
  {
   "cell_type": "code",
   "execution_count": null,
   "id": "ae76cbca-90c8-4ccf-909e-bf09bc1ad73e",
   "metadata": {},
   "outputs": [],
   "source": []
  },
  {
   "cell_type": "markdown",
   "id": "383953bd-0642-401b-8c1c-be94747d52a9",
   "metadata": {},
   "source": []
  },
  {
   "cell_type": "code",
   "execution_count": 29,
   "id": "3349a802-a762-4d04-a59e-4e3d9cc02eb4",
   "metadata": {},
   "outputs": [],
   "source": [
    "import pickle as pk \n",
    "with open('Model_1','wb') as file: #wb means write binary\n",
    "    pk.dump(model, file)"
   ]
  },
  {
   "cell_type": "markdown",
   "id": "63bc7e0f-6fbd-473e-abff-cca29f35cd31",
   "metadata": {},
   "source": [
    " ### its another way to do the same thing. saving file by Model_2 name"
   ]
  },
  {
   "cell_type": "code",
   "execution_count": 36,
   "id": "099aa540-95c6-4b88-b7b1-3d61af626f8d",
   "metadata": {},
   "outputs": [],
   "source": [
    "pk.dump(model, open('Model_2','wb'))"
   ]
  },
  {
   "cell_type": "markdown",
   "id": "ecc2acb4-6890-49bc-b59b-87f142dfb291",
   "metadata": {},
   "source": [
    "### let's check the directory "
   ]
  },
  {
   "cell_type": "code",
   "execution_count": 37,
   "id": "f8e0743b-9ec6-4be3-88a0-c1d57d1d4c0f",
   "metadata": {},
   "outputs": [
    {
     "data": {
      "text/plain": [
       "'E:\\\\ML PracT\\\\Save ML Model\\\\Train Folder'"
      ]
     },
     "execution_count": 37,
     "metadata": {},
     "output_type": "execute_result"
    }
   ],
   "source": [
    "import os\n",
    "os.getcwd() #cwd means current working directory"
   ]
  },
  {
   "cell_type": "code",
   "execution_count": null,
   "id": "7afa35a0-312f-4ffa-8091-dab4b3429fe7",
   "metadata": {},
   "outputs": [],
   "source": []
  },
  {
   "cell_type": "code",
   "execution_count": null,
   "id": "bf542559-d6d2-44e8-90b1-1a03e0d1126d",
   "metadata": {},
   "outputs": [],
   "source": []
  },
  {
   "cell_type": "code",
   "execution_count": null,
   "id": "a1eb33ef-dbcf-49b8-98a3-9175a932cbf9",
   "metadata": {},
   "outputs": [],
   "source": []
  }
 ],
 "metadata": {
  "kernelspec": {
   "display_name": "Python 3 (ipykernel)",
   "language": "python",
   "name": "python3"
  },
  "language_info": {
   "codemirror_mode": {
    "name": "ipython",
    "version": 3
   },
   "file_extension": ".py",
   "mimetype": "text/x-python",
   "name": "python",
   "nbconvert_exporter": "python",
   "pygments_lexer": "ipython3",
   "version": "3.10.5"
  }
 },
 "nbformat": 4,
 "nbformat_minor": 5
}
