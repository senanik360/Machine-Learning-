{
 "cells": [
  {
   "cell_type": "code",
   "execution_count": 46,
   "id": "49e28d6c-b2dc-4d9c-b3c3-d8e493c115f6",
   "metadata": {},
   "outputs": [],
   "source": [
    "import warnings\n",
    "warnings.filterwarnings('ignore')"
   ]
  },
  {
   "cell_type": "code",
   "execution_count": 47,
   "id": "0b60334c-ac6f-4d61-92ce-cccce4aaa093",
   "metadata": {},
   "outputs": [
    {
     "name": "stdout",
     "output_type": "stream",
     "text": [
      "Requirement already satisfied: openpyxl in c:\\users\\asus\\appdata\\local\\programs\\python\\python310\\lib\\site-packages (3.1.5)\n",
      "Requirement already satisfied: et-xmlfile in c:\\users\\asus\\appdata\\local\\programs\\python\\python310\\lib\\site-packages (from openpyxl) (1.1.0)\n",
      "Note: you may need to restart the kernel to use updated packages.\n"
     ]
    },
    {
     "name": "stderr",
     "output_type": "stream",
     "text": [
      "\n",
      "[notice] A new release of pip available: 22.2.2 -> 24.1.2\n",
      "[notice] To update, run: python.exe -m pip install --upgrade pip\n"
     ]
    }
   ],
   "source": [
    "pip install openpyxl"
   ]
  },
  {
   "cell_type": "code",
   "execution_count": 48,
   "id": "6b407d33-e6c7-4adf-9ec1-584366759629",
   "metadata": {},
   "outputs": [],
   "source": [
    "import pandas as pd\n",
    "from sklearn import tree"
   ]
  },
  {
   "cell_type": "code",
   "execution_count": 49,
   "id": "6c4c6e76-f765-4586-b94d-3d313d69f65f",
   "metadata": {},
   "outputs": [
    {
     "data": {
      "text/html": [
       "<div>\n",
       "<style scoped>\n",
       "    .dataframe tbody tr th:only-of-type {\n",
       "        vertical-align: middle;\n",
       "    }\n",
       "\n",
       "    .dataframe tbody tr th {\n",
       "        vertical-align: top;\n",
       "    }\n",
       "\n",
       "    .dataframe thead th {\n",
       "        text-align: right;\n",
       "    }\n",
       "</style>\n",
       "<table border=\"1\" class=\"dataframe\">\n",
       "  <thead>\n",
       "    <tr style=\"text-align: right;\">\n",
       "      <th></th>\n",
       "      <th>height</th>\n",
       "      <th>weight</th>\n",
       "      <th>shoe size</th>\n",
       "      <th>gender</th>\n",
       "    </tr>\n",
       "  </thead>\n",
       "  <tbody>\n",
       "    <tr>\n",
       "      <th>0</th>\n",
       "      <td>181</td>\n",
       "      <td>80</td>\n",
       "      <td>44</td>\n",
       "      <td>male</td>\n",
       "    </tr>\n",
       "    <tr>\n",
       "      <th>1</th>\n",
       "      <td>177</td>\n",
       "      <td>70</td>\n",
       "      <td>43</td>\n",
       "      <td>female</td>\n",
       "    </tr>\n",
       "    <tr>\n",
       "      <th>2</th>\n",
       "      <td>160</td>\n",
       "      <td>60</td>\n",
       "      <td>38</td>\n",
       "      <td>female</td>\n",
       "    </tr>\n",
       "    <tr>\n",
       "      <th>3</th>\n",
       "      <td>154</td>\n",
       "      <td>54</td>\n",
       "      <td>37</td>\n",
       "      <td>female</td>\n",
       "    </tr>\n",
       "    <tr>\n",
       "      <th>4</th>\n",
       "      <td>166</td>\n",
       "      <td>65</td>\n",
       "      <td>40</td>\n",
       "      <td>male</td>\n",
       "    </tr>\n",
       "    <tr>\n",
       "      <th>5</th>\n",
       "      <td>190</td>\n",
       "      <td>90</td>\n",
       "      <td>47</td>\n",
       "      <td>male</td>\n",
       "    </tr>\n",
       "    <tr>\n",
       "      <th>6</th>\n",
       "      <td>175</td>\n",
       "      <td>64</td>\n",
       "      <td>39</td>\n",
       "      <td>male</td>\n",
       "    </tr>\n",
       "    <tr>\n",
       "      <th>7</th>\n",
       "      <td>171</td>\n",
       "      <td>75</td>\n",
       "      <td>42</td>\n",
       "      <td>female</td>\n",
       "    </tr>\n",
       "    <tr>\n",
       "      <th>8</th>\n",
       "      <td>185</td>\n",
       "      <td>85</td>\n",
       "      <td>43</td>\n",
       "      <td>female</td>\n",
       "    </tr>\n",
       "    <tr>\n",
       "      <th>9</th>\n",
       "      <td>169</td>\n",
       "      <td>71</td>\n",
       "      <td>42</td>\n",
       "      <td>male</td>\n",
       "    </tr>\n",
       "  </tbody>\n",
       "</table>\n",
       "</div>"
      ],
      "text/plain": [
       "   height   weight  shoe size  gender\n",
       "0      181      80         44    male\n",
       "1      177      70         43  female\n",
       "2      160      60         38  female\n",
       "3      154      54         37  female\n",
       "4      166      65         40    male\n",
       "5      190      90         47    male\n",
       "6      175      64         39    male\n",
       "7      171      75         42  female\n",
       "8      185      85         43  female\n",
       "9      169      71         42    male"
      ]
     },
     "execution_count": 49,
     "metadata": {},
     "output_type": "execute_result"
    }
   ],
   "source": [
    "df = pd.read_excel(\"male female.xlsx\")\n",
    "df"
   ]
  },
  {
   "cell_type": "code",
   "execution_count": 50,
   "id": "9246e0dc-9d97-4b07-a6d2-5e3db3792425",
   "metadata": {},
   "outputs": [],
   "source": [
    "x = df.iloc[:,:-1]"
   ]
  },
  {
   "cell_type": "code",
   "execution_count": 51,
   "id": "563fe125-48b7-4f5c-ab5d-66ab27d05d3c",
   "metadata": {},
   "outputs": [
    {
     "data": {
      "text/html": [
       "<div>\n",
       "<style scoped>\n",
       "    .dataframe tbody tr th:only-of-type {\n",
       "        vertical-align: middle;\n",
       "    }\n",
       "\n",
       "    .dataframe tbody tr th {\n",
       "        vertical-align: top;\n",
       "    }\n",
       "\n",
       "    .dataframe thead th {\n",
       "        text-align: right;\n",
       "    }\n",
       "</style>\n",
       "<table border=\"1\" class=\"dataframe\">\n",
       "  <thead>\n",
       "    <tr style=\"text-align: right;\">\n",
       "      <th></th>\n",
       "      <th>height</th>\n",
       "      <th>weight</th>\n",
       "      <th>shoe size</th>\n",
       "    </tr>\n",
       "  </thead>\n",
       "  <tbody>\n",
       "    <tr>\n",
       "      <th>0</th>\n",
       "      <td>181</td>\n",
       "      <td>80</td>\n",
       "      <td>44</td>\n",
       "    </tr>\n",
       "    <tr>\n",
       "      <th>1</th>\n",
       "      <td>177</td>\n",
       "      <td>70</td>\n",
       "      <td>43</td>\n",
       "    </tr>\n",
       "    <tr>\n",
       "      <th>2</th>\n",
       "      <td>160</td>\n",
       "      <td>60</td>\n",
       "      <td>38</td>\n",
       "    </tr>\n",
       "    <tr>\n",
       "      <th>3</th>\n",
       "      <td>154</td>\n",
       "      <td>54</td>\n",
       "      <td>37</td>\n",
       "    </tr>\n",
       "    <tr>\n",
       "      <th>4</th>\n",
       "      <td>166</td>\n",
       "      <td>65</td>\n",
       "      <td>40</td>\n",
       "    </tr>\n",
       "    <tr>\n",
       "      <th>5</th>\n",
       "      <td>190</td>\n",
       "      <td>90</td>\n",
       "      <td>47</td>\n",
       "    </tr>\n",
       "    <tr>\n",
       "      <th>6</th>\n",
       "      <td>175</td>\n",
       "      <td>64</td>\n",
       "      <td>39</td>\n",
       "    </tr>\n",
       "    <tr>\n",
       "      <th>7</th>\n",
       "      <td>171</td>\n",
       "      <td>75</td>\n",
       "      <td>42</td>\n",
       "    </tr>\n",
       "    <tr>\n",
       "      <th>8</th>\n",
       "      <td>185</td>\n",
       "      <td>85</td>\n",
       "      <td>43</td>\n",
       "    </tr>\n",
       "    <tr>\n",
       "      <th>9</th>\n",
       "      <td>169</td>\n",
       "      <td>71</td>\n",
       "      <td>42</td>\n",
       "    </tr>\n",
       "  </tbody>\n",
       "</table>\n",
       "</div>"
      ],
      "text/plain": [
       "   height   weight  shoe size\n",
       "0      181      80         44\n",
       "1      177      70         43\n",
       "2      160      60         38\n",
       "3      154      54         37\n",
       "4      166      65         40\n",
       "5      190      90         47\n",
       "6      175      64         39\n",
       "7      171      75         42\n",
       "8      185      85         43\n",
       "9      169      71         42"
      ]
     },
     "execution_count": 51,
     "metadata": {},
     "output_type": "execute_result"
    }
   ],
   "source": [
    "x"
   ]
  },
  {
   "cell_type": "code",
   "execution_count": 52,
   "id": "495ef377-450b-4f47-b6cf-20efe663a9da",
   "metadata": {},
   "outputs": [
    {
     "data": {
      "text/plain": [
       "0      male\n",
       "1    female\n",
       "2    female\n",
       "3    female\n",
       "4      male\n",
       "5      male\n",
       "6      male\n",
       "7    female\n",
       "8    female\n",
       "9      male\n",
       "Name: gender, dtype: object"
      ]
     },
     "execution_count": 52,
     "metadata": {},
     "output_type": "execute_result"
    }
   ],
   "source": [
    "#y = df.iloc[:,-1:]\n",
    "y = df.iloc[:,3]\n",
    "y"
   ]
  },
  {
   "cell_type": "code",
   "execution_count": 53,
   "id": "b3ab2823-7be0-447a-951d-6fff07f6ba65",
   "metadata": {},
   "outputs": [],
   "source": [
    "classify_ = tree.DecisionTreeClassifier()"
   ]
  },
  {
   "cell_type": "code",
   "execution_count": 54,
   "id": "50ce0651-e484-4aca-acd2-e3594d0a4d54",
   "metadata": {},
   "outputs": [],
   "source": [
    "classify_ = classify_.fit(x,y)"
   ]
  },
  {
   "cell_type": "code",
   "execution_count": 55,
   "id": "599ed1ca-e943-4f30-a3b9-a30fdddb5b4e",
   "metadata": {},
   "outputs": [
    {
     "data": {
      "text/plain": [
       "array(['female'], dtype=object)"
      ]
     },
     "execution_count": 55,
     "metadata": {},
     "output_type": "execute_result"
    }
   ],
   "source": [
    "prediction_ =  classify_.predict([[190, 70, 43]])\n",
    "prediction_"
   ]
  },
  {
   "cell_type": "code",
   "execution_count": 56,
   "id": "ef3c9715-cb9f-467e-9359-9182a8226932",
   "metadata": {},
   "outputs": [
    {
     "data": {
      "text/plain": [
       "array(['male'], dtype=object)"
      ]
     },
     "execution_count": 56,
     "metadata": {},
     "output_type": "execute_result"
    }
   ],
   "source": [
    "classify_.predict([[200, 79, 44]])"
   ]
  },
  {
   "cell_type": "markdown",
   "id": "0d88df35-8663-4e9c-8658-0af5727abce9",
   "metadata": {},
   "source": [
    "# Saving Machine Learning Models"
   ]
  },
  {
   "cell_type": "code",
   "execution_count": 57,
   "id": "928a6afc-c183-4805-8cf8-1e232ace3e26",
   "metadata": {},
   "outputs": [],
   "source": [
    "import pickle as pk \n",
    "with open('Model_1','wb') as file: #wb means write binary\n",
    "    pk.dump(classify_, file)"
   ]
  },
  {
   "cell_type": "markdown",
   "id": "8eadbbbb-f63f-4319-9323-8397b2a72154",
   "metadata": {},
   "source": [
    " ### its another way to do the same thing. saving file by Model_2 name"
   ]
  },
  {
   "cell_type": "code",
   "execution_count": 58,
   "id": "fa24f7b7-8f3c-4c94-9634-3b0c0909413f",
   "metadata": {},
   "outputs": [],
   "source": [
    "pk.dump(classify_, open('Model_2','wb'))"
   ]
  },
  {
   "cell_type": "code",
   "execution_count": 59,
   "id": "28c7cfa8-8b3d-4f89-a13e-e595abeb30cd",
   "metadata": {},
   "outputs": [],
   "source": [
    "### let's check the directory "
   ]
  },
  {
   "cell_type": "code",
   "execution_count": 60,
   "id": "a97d401a-785a-4f1e-91f6-30399ce77e3c",
   "metadata": {},
   "outputs": [
    {
     "data": {
      "text/plain": [
       "'E:\\\\ML PracT\\\\Save ML Model\\\\Train Folder'"
      ]
     },
     "execution_count": 60,
     "metadata": {},
     "output_type": "execute_result"
    }
   ],
   "source": [
    "import os\n",
    "os.getcwd() #cwd means current working directory"
   ]
  },
  {
   "cell_type": "code",
   "execution_count": 66,
   "id": "7c9f206a-7b03-456a-9cef-bedc016f3f0b",
   "metadata": {},
   "outputs": [
    {
     "data": {
      "text/plain": [
       "array(['male'], dtype=object)"
      ]
     },
     "execution_count": 66,
     "metadata": {},
     "output_type": "execute_result"
    }
   ],
   "source": [
    "with open('Model_2','rb') as file:\n",
    "    model2 = pk.load(file)\n",
    "model2.predict([[200, 79, 44]])"
   ]
  },
  {
   "cell_type": "code",
   "execution_count": 70,
   "id": "812dfccf-241c-40a1-9423-1f087359575d",
   "metadata": {},
   "outputs": [
    {
     "data": {
      "text/plain": [
       "array(['male'], dtype=object)"
      ]
     },
     "execution_count": 70,
     "metadata": {},
     "output_type": "execute_result"
    }
   ],
   "source": [
    "model2 = pk.load(open('Model_2','rb'))  # this is how we can do it in a single line\n",
    "model2.predict([[200, 79, 44]])"
   ]
  },
  {
   "cell_type": "markdown",
   "id": "191647f0-f369-4578-a7e2-dd9ac3283507",
   "metadata": {},
   "source": [
    "# Joblib"
   ]
  },
  {
   "cell_type": "markdown",
   "id": "e8f502ac-443f-4f2c-9d23-c88effca2f26",
   "metadata": {},
   "source": [
    "### in Joblib, no need to declare the mood. it will detect automatically"
   ]
  },
  {
   "cell_type": "code",
   "execution_count": 62,
   "id": "87a40c29-b829-444a-a31a-ea70ace99e32",
   "metadata": {},
   "outputs": [],
   "source": [
    "import joblib as jbl"
   ]
  },
  {
   "cell_type": "code",
   "execution_count": 63,
   "id": "0675513e-65aa-44f0-b87c-449f934f932e",
   "metadata": {},
   "outputs": [
    {
     "data": {
      "text/plain": [
       "['Model_3']"
      ]
     },
     "execution_count": 63,
     "metadata": {},
     "output_type": "execute_result"
    }
   ],
   "source": [
    "jbl.dump(classify_ , 'Model_3')"
   ]
  },
  {
   "cell_type": "code",
   "execution_count": 64,
   "id": "003d2301-cfed-453f-bd55-4fb864a1dbc7",
   "metadata": {},
   "outputs": [],
   "source": [
    "model3 = jbl.load('Model_3')"
   ]
  },
  {
   "cell_type": "code",
   "execution_count": 65,
   "id": "f80068e1-6a14-4005-98c7-a34eb8799824",
   "metadata": {},
   "outputs": [
    {
     "data": {
      "text/plain": [
       "array(['male'], dtype=object)"
      ]
     },
     "execution_count": 65,
     "metadata": {},
     "output_type": "execute_result"
    }
   ],
   "source": [
    "model3.predict([[200, 79, 44]])"
   ]
  },
  {
   "cell_type": "code",
   "execution_count": null,
   "id": "6aa329fa-526b-4288-a45d-99a2c1124c84",
   "metadata": {},
   "outputs": [],
   "source": []
  },
  {
   "cell_type": "code",
   "execution_count": null,
   "id": "66107e26-0aaf-4f75-b258-6ea824749376",
   "metadata": {},
   "outputs": [],
   "source": []
  },
  {
   "cell_type": "code",
   "execution_count": null,
   "id": "d3e51731-cd09-4735-94f3-093395b3f745",
   "metadata": {},
   "outputs": [],
   "source": []
  }
 ],
 "metadata": {
  "kernelspec": {
   "display_name": "Python 3 (ipykernel)",
   "language": "python",
   "name": "python3"
  },
  "language_info": {
   "codemirror_mode": {
    "name": "ipython",
    "version": 3
   },
   "file_extension": ".py",
   "mimetype": "text/x-python",
   "name": "python",
   "nbconvert_exporter": "python",
   "pygments_lexer": "ipython3",
   "version": "3.10.5"
  }
 },
 "nbformat": 4,
 "nbformat_minor": 5
}
