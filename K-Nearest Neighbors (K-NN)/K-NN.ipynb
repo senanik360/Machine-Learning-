{
 "cells": [
  {
   "cell_type": "markdown",
   "id": "674595a9-fff1-4ffd-8b2e-d3dea0cb7c19",
   "metadata": {},
   "source": [
    "# K-Nearest Neighbor"
   ]
  },
  {
   "cell_type": "markdown",
   "id": "3b710b09-1ac3-41ea-962b-e11bce48099b",
   "metadata": {},
   "source": [
    "## Assigning features and lable variables\n",
    "### First feature"
   ]
  },
  {
   "cell_type": "code",
   "execution_count": 1,
   "id": "2759b7d5-dfe9-48bd-913d-b4c5341e21fc",
   "metadata": {},
   "outputs": [],
   "source": [
    "weather = ['Sunny','Sunny','Overcast','Rainy','Rainy','Rainy','Overcast','Sunny','Sunny','Rainy','Sunny','Overcast','Overcast','Rainy']\n"
   ]
  },
  {
   "cell_type": "markdown",
   "id": "3b561d35-f89f-4d9c-bf94-0fa4b28a9178",
   "metadata": {},
   "source": [
    "### Second Feature"
   ]
  },
  {
   "cell_type": "code",
   "execution_count": 2,
   "id": "64659943-9280-4be3-8d14-06dfc73d1ba1",
   "metadata": {},
   "outputs": [],
   "source": [
    "temp = ['Hot','Hot','Hot','Mild','Cool','Cool','Cool','Mild','Cool','Mild','Mild','Mild','Hot','Mild']"
   ]
  },
  {
   "cell_type": "markdown",
   "id": "67f83315-8fcb-4193-9edf-35d5a173b3f5",
   "metadata": {},
   "source": [
    "### Label or Target variable "
   ]
  },
  {
   "cell_type": "code",
   "execution_count": 3,
   "id": "dce3d32a-7404-41c4-8ddc-7f58578385b8",
   "metadata": {},
   "outputs": [],
   "source": [
    "Play=['No','No','Yes','Yes','Yes','No','Yes','No','Yes','Yes','Yes','Yes','Yes','No']"
   ]
  },
  {
   "cell_type": "markdown",
   "id": "c1cbf1d3-880f-4214-bac8-db336f743e12",
   "metadata": {},
   "source": [
    "# Import LabelEncoder"
   ]
  },
  {
   "cell_type": "code",
   "execution_count": 4,
   "id": "779873dd-7d30-40ba-8dcb-49aa43291d44",
   "metadata": {},
   "outputs": [],
   "source": [
    "from sklearn import preprocessing"
   ]
  },
  {
   "cell_type": "markdown",
   "id": "a2518535-0c8b-4f1c-9a5d-52edb2dd97d8",
   "metadata": {},
   "source": [
    "### Creating LabelEncoder"
   ]
  },
  {
   "cell_type": "code",
   "execution_count": 5,
   "id": "88cb412a-e337-479c-8e3e-f2dc2d0d14bd",
   "metadata": {},
   "outputs": [],
   "source": [
    "\n",
    "le = preprocessing.LabelEncoder()"
   ]
  },
  {
   "cell_type": "markdown",
   "id": "1f87e614-0eb1-4846-96ad-22ab349b330d",
   "metadata": {},
   "source": [
    "### Converting string labels into numbers"
   ]
  },
  {
   "cell_type": "code",
   "execution_count": 6,
   "id": "cbd1d195-5b9b-47fe-9425-bfafc52c17b6",
   "metadata": {},
   "outputs": [],
   "source": [
    "weather_encoded = le.fit_transform(weather)"
   ]
  },
  {
   "cell_type": "code",
   "execution_count": 7,
   "id": "aeac98b7-6a98-4ba5-8b62-d6535bd44a7b",
   "metadata": {},
   "outputs": [
    {
     "data": {
      "text/plain": [
       "array([2, 2, 0, 1, 1, 1, 0, 2, 2, 1, 2, 0, 0, 1], dtype=int64)"
      ]
     },
     "execution_count": 7,
     "metadata": {},
     "output_type": "execute_result"
    }
   ],
   "source": [
    "weather_encoded"
   ]
  },
  {
   "cell_type": "markdown",
   "id": "d5adb3ea-c0c0-479a-8ab9-d05adc4c667a",
   "metadata": {},
   "source": [
    "### Converting string labels into numbers"
   ]
  },
  {
   "cell_type": "code",
   "execution_count": 8,
   "id": "33d40909-2cf0-4333-9280-a077570d3368",
   "metadata": {},
   "outputs": [],
   "source": [
    "\n",
    "temp_encoded = le.fit_transform(temp)"
   ]
  },
  {
   "cell_type": "code",
   "execution_count": 9,
   "id": "38c7b372-52fa-449f-b0b2-ad292fdde23c",
   "metadata": {},
   "outputs": [
    {
     "data": {
      "text/plain": [
       "array([1, 1, 1, 2, 0, 0, 0, 2, 0, 2, 2, 2, 1, 2], dtype=int64)"
      ]
     },
     "execution_count": 9,
     "metadata": {},
     "output_type": "execute_result"
    }
   ],
   "source": [
    "temp_encoded"
   ]
  },
  {
   "cell_type": "markdown",
   "id": "d29ea237-9117-43fb-a64e-709c7b85f092",
   "metadata": {},
   "source": [
    "### Converting string labels into numbers"
   ]
  },
  {
   "cell_type": "code",
   "execution_count": 10,
   "id": "1bb875fd-aaae-472d-a19f-453ad49d2190",
   "metadata": {},
   "outputs": [],
   "source": [
    "\n",
    "play_encoded = le.fit_transform(Play)"
   ]
  },
  {
   "cell_type": "code",
   "execution_count": 11,
   "id": "fb197ef9-5dfe-46d9-aea3-96ac6c023f4b",
   "metadata": {},
   "outputs": [
    {
     "data": {
      "text/plain": [
       "array([0, 0, 1, 1, 1, 0, 1, 0, 1, 1, 1, 1, 1, 0], dtype=int64)"
      ]
     },
     "execution_count": 11,
     "metadata": {},
     "output_type": "execute_result"
    }
   ],
   "source": [
    "play_encoded"
   ]
  },
  {
   "cell_type": "markdown",
   "id": "cb91004c-1a51-42a9-a84b-a1f09c7629c1",
   "metadata": {},
   "source": [
    "### Combining weather and temp into single listof tuples"
   ]
  },
  {
   "cell_type": "code",
   "execution_count": 12,
   "id": "752a4005-4db2-4edf-90e2-3f4d075b0af6",
   "metadata": {},
   "outputs": [],
   "source": [
    "\n",
    "features = list(zip(weather_encoded, temp_encoded))"
   ]
  },
  {
   "cell_type": "code",
   "execution_count": 17,
   "id": "c3cf78fd-0635-48ec-ad46-5b662c51b98c",
   "metadata": {},
   "outputs": [
    {
     "data": {
      "text/html": [
       "<div>\n",
       "<style scoped>\n",
       "    .dataframe tbody tr th:only-of-type {\n",
       "        vertical-align: middle;\n",
       "    }\n",
       "\n",
       "    .dataframe tbody tr th {\n",
       "        vertical-align: top;\n",
       "    }\n",
       "\n",
       "    .dataframe thead th {\n",
       "        text-align: right;\n",
       "    }\n",
       "</style>\n",
       "<table border=\"1\" class=\"dataframe\">\n",
       "  <thead>\n",
       "    <tr style=\"text-align: right;\">\n",
       "      <th></th>\n",
       "      <th>0</th>\n",
       "      <th>1</th>\n",
       "    </tr>\n",
       "  </thead>\n",
       "  <tbody>\n",
       "    <tr>\n",
       "      <th>0</th>\n",
       "      <td>2</td>\n",
       "      <td>1</td>\n",
       "    </tr>\n",
       "    <tr>\n",
       "      <th>1</th>\n",
       "      <td>2</td>\n",
       "      <td>1</td>\n",
       "    </tr>\n",
       "    <tr>\n",
       "      <th>2</th>\n",
       "      <td>0</td>\n",
       "      <td>1</td>\n",
       "    </tr>\n",
       "    <tr>\n",
       "      <th>3</th>\n",
       "      <td>1</td>\n",
       "      <td>2</td>\n",
       "    </tr>\n",
       "    <tr>\n",
       "      <th>4</th>\n",
       "      <td>1</td>\n",
       "      <td>0</td>\n",
       "    </tr>\n",
       "    <tr>\n",
       "      <th>5</th>\n",
       "      <td>1</td>\n",
       "      <td>0</td>\n",
       "    </tr>\n",
       "    <tr>\n",
       "      <th>6</th>\n",
       "      <td>0</td>\n",
       "      <td>0</td>\n",
       "    </tr>\n",
       "    <tr>\n",
       "      <th>7</th>\n",
       "      <td>2</td>\n",
       "      <td>2</td>\n",
       "    </tr>\n",
       "    <tr>\n",
       "      <th>8</th>\n",
       "      <td>2</td>\n",
       "      <td>0</td>\n",
       "    </tr>\n",
       "    <tr>\n",
       "      <th>9</th>\n",
       "      <td>1</td>\n",
       "      <td>2</td>\n",
       "    </tr>\n",
       "    <tr>\n",
       "      <th>10</th>\n",
       "      <td>2</td>\n",
       "      <td>2</td>\n",
       "    </tr>\n",
       "    <tr>\n",
       "      <th>11</th>\n",
       "      <td>0</td>\n",
       "      <td>2</td>\n",
       "    </tr>\n",
       "    <tr>\n",
       "      <th>12</th>\n",
       "      <td>0</td>\n",
       "      <td>1</td>\n",
       "    </tr>\n",
       "    <tr>\n",
       "      <th>13</th>\n",
       "      <td>1</td>\n",
       "      <td>2</td>\n",
       "    </tr>\n",
       "  </tbody>\n",
       "</table>\n",
       "</div>"
      ],
      "text/plain": [
       "    0  1\n",
       "0   2  1\n",
       "1   2  1\n",
       "2   0  1\n",
       "3   1  2\n",
       "4   1  0\n",
       "5   1  0\n",
       "6   0  0\n",
       "7   2  2\n",
       "8   2  0\n",
       "9   1  2\n",
       "10  2  2\n",
       "11  0  2\n",
       "12  0  1\n",
       "13  1  2"
      ]
     },
     "execution_count": 17,
     "metadata": {},
     "output_type": "execute_result"
    }
   ],
   "source": [
    "import pandas as pd\n",
    "features = pd.DataFrame(features)\n",
    "features"
   ]
  },
  {
   "cell_type": "code",
   "execution_count": 18,
   "id": "bd920f24-6263-46de-89e6-607508b602ab",
   "metadata": {},
   "outputs": [],
   "source": [
    "from sklearn.neighbors import KNeighborsClassifier\n",
    "model = KNeighborsClassifier(n_neighbors=3)"
   ]
  },
  {
   "cell_type": "markdown",
   "id": "ee28e402-374c-4c27-a356-78bcb08cefd9",
   "metadata": {},
   "source": [
    "### Train the model using the training sets"
   ]
  },
  {
   "cell_type": "code",
   "execution_count": 19,
   "id": "3a4696c7-f0c6-4c12-9de0-c09953d1cf48",
   "metadata": {
    "scrolled": true
   },
   "outputs": [
    {
     "data": {
      "text/html": [
       "<style>#sk-container-id-2 {color: black;}#sk-container-id-2 pre{padding: 0;}#sk-container-id-2 div.sk-toggleable {background-color: white;}#sk-container-id-2 label.sk-toggleable__label {cursor: pointer;display: block;width: 100%;margin-bottom: 0;padding: 0.3em;box-sizing: border-box;text-align: center;}#sk-container-id-2 label.sk-toggleable__label-arrow:before {content: \"▸\";float: left;margin-right: 0.25em;color: #696969;}#sk-container-id-2 label.sk-toggleable__label-arrow:hover:before {color: black;}#sk-container-id-2 div.sk-estimator:hover label.sk-toggleable__label-arrow:before {color: black;}#sk-container-id-2 div.sk-toggleable__content {max-height: 0;max-width: 0;overflow: hidden;text-align: left;background-color: #f0f8ff;}#sk-container-id-2 div.sk-toggleable__content pre {margin: 0.2em;color: black;border-radius: 0.25em;background-color: #f0f8ff;}#sk-container-id-2 input.sk-toggleable__control:checked~div.sk-toggleable__content {max-height: 200px;max-width: 100%;overflow: auto;}#sk-container-id-2 input.sk-toggleable__control:checked~label.sk-toggleable__label-arrow:before {content: \"▾\";}#sk-container-id-2 div.sk-estimator input.sk-toggleable__control:checked~label.sk-toggleable__label {background-color: #d4ebff;}#sk-container-id-2 div.sk-label input.sk-toggleable__control:checked~label.sk-toggleable__label {background-color: #d4ebff;}#sk-container-id-2 input.sk-hidden--visually {border: 0;clip: rect(1px 1px 1px 1px);clip: rect(1px, 1px, 1px, 1px);height: 1px;margin: -1px;overflow: hidden;padding: 0;position: absolute;width: 1px;}#sk-container-id-2 div.sk-estimator {font-family: monospace;background-color: #f0f8ff;border: 1px dotted black;border-radius: 0.25em;box-sizing: border-box;margin-bottom: 0.5em;}#sk-container-id-2 div.sk-estimator:hover {background-color: #d4ebff;}#sk-container-id-2 div.sk-parallel-item::after {content: \"\";width: 100%;border-bottom: 1px solid gray;flex-grow: 1;}#sk-container-id-2 div.sk-label:hover label.sk-toggleable__label {background-color: #d4ebff;}#sk-container-id-2 div.sk-serial::before {content: \"\";position: absolute;border-left: 1px solid gray;box-sizing: border-box;top: 0;bottom: 0;left: 50%;z-index: 0;}#sk-container-id-2 div.sk-serial {display: flex;flex-direction: column;align-items: center;background-color: white;padding-right: 0.2em;padding-left: 0.2em;position: relative;}#sk-container-id-2 div.sk-item {position: relative;z-index: 1;}#sk-container-id-2 div.sk-parallel {display: flex;align-items: stretch;justify-content: center;background-color: white;position: relative;}#sk-container-id-2 div.sk-item::before, #sk-container-id-2 div.sk-parallel-item::before {content: \"\";position: absolute;border-left: 1px solid gray;box-sizing: border-box;top: 0;bottom: 0;left: 50%;z-index: -1;}#sk-container-id-2 div.sk-parallel-item {display: flex;flex-direction: column;z-index: 1;position: relative;background-color: white;}#sk-container-id-2 div.sk-parallel-item:first-child::after {align-self: flex-end;width: 50%;}#sk-container-id-2 div.sk-parallel-item:last-child::after {align-self: flex-start;width: 50%;}#sk-container-id-2 div.sk-parallel-item:only-child::after {width: 0;}#sk-container-id-2 div.sk-dashed-wrapped {border: 1px dashed gray;margin: 0 0.4em 0.5em 0.4em;box-sizing: border-box;padding-bottom: 0.4em;background-color: white;}#sk-container-id-2 div.sk-label label {font-family: monospace;font-weight: bold;display: inline-block;line-height: 1.2em;}#sk-container-id-2 div.sk-label-container {text-align: center;}#sk-container-id-2 div.sk-container {/* jupyter's `normalize.less` sets `[hidden] { display: none; }` but bootstrap.min.css set `[hidden] { display: none !important; }` so we also need the `!important` here to be able to override the default hidden behavior on the sphinx rendered scikit-learn.org. See: https://github.com/scikit-learn/scikit-learn/issues/21755 */display: inline-block !important;position: relative;}#sk-container-id-2 div.sk-text-repr-fallback {display: none;}</style><div id=\"sk-container-id-2\" class=\"sk-top-container\"><div class=\"sk-text-repr-fallback\"><pre>KNeighborsClassifier(n_neighbors=3)</pre><b>In a Jupyter environment, please rerun this cell to show the HTML representation or trust the notebook. <br />On GitHub, the HTML representation is unable to render, please try loading this page with nbviewer.org.</b></div><div class=\"sk-container\" hidden><div class=\"sk-item\"><div class=\"sk-estimator sk-toggleable\"><input class=\"sk-toggleable__control sk-hidden--visually\" id=\"sk-estimator-id-2\" type=\"checkbox\" checked><label for=\"sk-estimator-id-2\" class=\"sk-toggleable__label sk-toggleable__label-arrow\">KNeighborsClassifier</label><div class=\"sk-toggleable__content\"><pre>KNeighborsClassifier(n_neighbors=3)</pre></div></div></div></div></div>"
      ],
      "text/plain": [
       "KNeighborsClassifier(n_neighbors=3)"
      ]
     },
     "execution_count": 19,
     "metadata": {},
     "output_type": "execute_result"
    }
   ],
   "source": [
    "model.fit(features, play_encoded)"
   ]
  },
  {
   "cell_type": "markdown",
   "id": "7ccfecc3-8458-4339-810f-4f4629a3e0d9",
   "metadata": {},
   "source": [
    "# Predict Output"
   ]
  },
  {
   "cell_type": "code",
   "execution_count": 23,
   "id": "dffcfe7d-3644-4681-af96-d93bf24877f4",
   "metadata": {},
   "outputs": [
    {
     "data": {
      "text/plain": [
       "array([0], dtype=int64)"
      ]
     },
     "execution_count": 23,
     "metadata": {},
     "output_type": "execute_result"
    }
   ],
   "source": [
    "model.predict([[2,1]])"
   ]
  },
  {
   "cell_type": "code",
   "execution_count": null,
   "id": "e74e5519-9bba-4f44-b87f-56892fb28627",
   "metadata": {},
   "outputs": [],
   "source": []
  }
 ],
 "metadata": {
  "kernelspec": {
   "display_name": "Python 3 (ipykernel)",
   "language": "python",
   "name": "python3"
  },
  "language_info": {
   "codemirror_mode": {
    "name": "ipython",
    "version": 3
   },
   "file_extension": ".py",
   "mimetype": "text/x-python",
   "name": "python",
   "nbconvert_exporter": "python",
   "pygments_lexer": "ipython3",
   "version": "3.10.5"
  }
 },
 "nbformat": 4,
 "nbformat_minor": 5
}
