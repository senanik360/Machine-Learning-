{
 "cells": [
  {
   "cell_type": "code",
   "execution_count": 1,
   "id": "c00cc608-1bf3-4bac-ba2a-1b3f8d060ebf",
   "metadata": {},
   "outputs": [],
   "source": [
    "import pandas as pd\n",
    "import numpy as np\n",
    "import seaborn as sns"
   ]
  },
  {
   "cell_type": "code",
   "execution_count": 6,
   "id": "113bce55-5115-408d-b234-7a31348f730b",
   "metadata": {},
   "outputs": [
    {
     "data": {
      "text/html": [
       "<div>\n",
       "<style scoped>\n",
       "    .dataframe tbody tr th:only-of-type {\n",
       "        vertical-align: middle;\n",
       "    }\n",
       "\n",
       "    .dataframe tbody tr th {\n",
       "        vertical-align: top;\n",
       "    }\n",
       "\n",
       "    .dataframe thead th {\n",
       "        text-align: right;\n",
       "    }\n",
       "</style>\n",
       "<table border=\"1\" class=\"dataframe\">\n",
       "  <thead>\n",
       "    <tr style=\"text-align: right;\">\n",
       "      <th></th>\n",
       "      <th>text</th>\n",
       "      <th>spam</th>\n",
       "    </tr>\n",
       "  </thead>\n",
       "  <tbody>\n",
       "    <tr>\n",
       "      <th>0</th>\n",
       "      <td>Subject: naturally irresistible your corporate...</td>\n",
       "      <td>1</td>\n",
       "    </tr>\n",
       "    <tr>\n",
       "      <th>1</th>\n",
       "      <td>Subject: the stock trading gunslinger  fanny i...</td>\n",
       "      <td>1</td>\n",
       "    </tr>\n",
       "    <tr>\n",
       "      <th>2</th>\n",
       "      <td>Subject: unbelievable new homes made easy  im ...</td>\n",
       "      <td>1</td>\n",
       "    </tr>\n",
       "    <tr>\n",
       "      <th>3</th>\n",
       "      <td>Subject: 4 color printing special  request add...</td>\n",
       "      <td>1</td>\n",
       "    </tr>\n",
       "    <tr>\n",
       "      <th>4</th>\n",
       "      <td>Subject: do not have money , get software cds ...</td>\n",
       "      <td>1</td>\n",
       "    </tr>\n",
       "    <tr>\n",
       "      <th>...</th>\n",
       "      <td>...</td>\n",
       "      <td>...</td>\n",
       "    </tr>\n",
       "    <tr>\n",
       "      <th>5723</th>\n",
       "      <td>Subject: re : research and development charges...</td>\n",
       "      <td>0</td>\n",
       "    </tr>\n",
       "    <tr>\n",
       "      <th>5724</th>\n",
       "      <td>Subject: re : receipts from visit  jim ,  than...</td>\n",
       "      <td>0</td>\n",
       "    </tr>\n",
       "    <tr>\n",
       "      <th>5725</th>\n",
       "      <td>Subject: re : enron case study update  wow ! a...</td>\n",
       "      <td>0</td>\n",
       "    </tr>\n",
       "    <tr>\n",
       "      <th>5726</th>\n",
       "      <td>Subject: re : interest  david ,  please , call...</td>\n",
       "      <td>0</td>\n",
       "    </tr>\n",
       "    <tr>\n",
       "      <th>5727</th>\n",
       "      <td>Subject: news : aurora 5 . 2 update  aurora ve...</td>\n",
       "      <td>0</td>\n",
       "    </tr>\n",
       "  </tbody>\n",
       "</table>\n",
       "<p>5728 rows × 2 columns</p>\n",
       "</div>"
      ],
      "text/plain": [
       "                                                   text  spam\n",
       "0     Subject: naturally irresistible your corporate...     1\n",
       "1     Subject: the stock trading gunslinger  fanny i...     1\n",
       "2     Subject: unbelievable new homes made easy  im ...     1\n",
       "3     Subject: 4 color printing special  request add...     1\n",
       "4     Subject: do not have money , get software cds ...     1\n",
       "...                                                 ...   ...\n",
       "5723  Subject: re : research and development charges...     0\n",
       "5724  Subject: re : receipts from visit  jim ,  than...     0\n",
       "5725  Subject: re : enron case study update  wow ! a...     0\n",
       "5726  Subject: re : interest  david ,  please , call...     0\n",
       "5727  Subject: news : aurora 5 . 2 update  aurora ve...     0\n",
       "\n",
       "[5728 rows x 2 columns]"
      ]
     },
     "execution_count": 6,
     "metadata": {},
     "output_type": "execute_result"
    }
   ],
   "source": [
    "df = pd.read_csv('emails.csv')\n",
    "df"
   ]
  },
  {
   "cell_type": "code",
   "execution_count": 3,
   "id": "e4442bda-bcce-4fd2-9462-17ae1c4624ee",
   "metadata": {},
   "outputs": [
    {
     "data": {
      "text/plain": [
       "(5728, 2)"
      ]
     },
     "execution_count": 3,
     "metadata": {},
     "output_type": "execute_result"
    }
   ],
   "source": [
    "df.shape"
   ]
  },
  {
   "cell_type": "code",
   "execution_count": 7,
   "id": "36b19d2a-4b12-4920-b700-610385887df6",
   "metadata": {},
   "outputs": [
    {
     "data": {
      "text/plain": [
       "spam\n",
       "0    4360\n",
       "1    1368\n",
       "Name: count, dtype: int64"
      ]
     },
     "execution_count": 7,
     "metadata": {},
     "output_type": "execute_result"
    }
   ],
   "source": [
    "df['spam'].value_counts()"
   ]
  },
  {
   "cell_type": "code",
   "execution_count": 8,
   "id": "b145fc26-c149-4b64-86ae-27837fea5976",
   "metadata": {},
   "outputs": [],
   "source": [
    "df.drop_duplicates(inplace=True)"
   ]
  },
  {
   "cell_type": "code",
   "execution_count": 9,
   "id": "d73d4a7f-c772-485e-9305-ce60d6fab50b",
   "metadata": {},
   "outputs": [
    {
     "data": {
      "text/plain": [
       "(5695, 2)"
      ]
     },
     "execution_count": 9,
     "metadata": {},
     "output_type": "execute_result"
    }
   ],
   "source": [
    "df.shape"
   ]
  },
  {
   "cell_type": "code",
   "execution_count": 10,
   "id": "3474d63a-5cf6-404f-8669-4a06bc801da3",
   "metadata": {},
   "outputs": [
    {
     "data": {
      "text/plain": [
       "spam\n",
       "0    4327\n",
       "1    1368\n",
       "Name: count, dtype: int64"
      ]
     },
     "execution_count": 10,
     "metadata": {},
     "output_type": "execute_result"
    }
   ],
   "source": [
    "df['spam'].value_counts()"
   ]
  },
  {
   "cell_type": "code",
   "execution_count": 11,
   "id": "ad091077-e1a7-40ac-b63b-c8c3d9998ab9",
   "metadata": {},
   "outputs": [
    {
     "data": {
      "text/plain": [
       "text    0\n",
       "spam    0\n",
       "dtype: int64"
      ]
     },
     "execution_count": 11,
     "metadata": {},
     "output_type": "execute_result"
    }
   ],
   "source": [
    "df.isnull().sum()"
   ]
  },
  {
   "cell_type": "markdown",
   "id": "d12257ab-17b8-4a64-9c22-fab9352d76a3",
   "metadata": {},
   "source": [
    "## Separating X and Y"
   ]
  },
  {
   "cell_type": "code",
   "execution_count": 12,
   "id": "a0fbb60b-584a-4547-8329-f64c170ede13",
   "metadata": {},
   "outputs": [],
   "source": [
    "x = df.text.values"
   ]
  },
  {
   "cell_type": "code",
   "execution_count": 13,
   "id": "619aaf04-e861-4295-adf1-f3851f50ab30",
   "metadata": {},
   "outputs": [],
   "source": [
    "y = df.spam.values"
   ]
  },
  {
   "cell_type": "markdown",
   "id": "93078ada-2214-4bfe-9807-e2bed2f1c40e",
   "metadata": {},
   "source": [
    "# Spliting Dataset"
   ]
  },
  {
   "cell_type": "code",
   "execution_count": 14,
   "id": "4c6759aa-9103-4b7b-b820-59c1179243af",
   "metadata": {},
   "outputs": [],
   "source": [
    "from sklearn.model_selection import train_test_split"
   ]
  },
  {
   "cell_type": "code",
   "execution_count": 15,
   "id": "07d8c137-420f-4fed-94a0-ac526da2a8ad",
   "metadata": {},
   "outputs": [],
   "source": [
    "xtrain, xtest, ytrain, ytest = train_test_split(x,y,test_size=0.2)"
   ]
  },
  {
   "cell_type": "code",
   "execution_count": 16,
   "id": "bb35752f-caf0-4c48-979a-c2cda8cfe65b",
   "metadata": {},
   "outputs": [
    {
     "data": {
      "text/plain": [
       "array([\"Subject: re : new pc with two 128 mb of ram  vince :  i was confused also - but i think this is the computer we ordered for  the new employee that is coming next week ( rakesh bharati ) . phillip our  it floor tech said that the computer in the back room at ebl 972 g was very  old and did not have much memory so i ordered a new one with an  upgrade to bring it up to 196 m ( this is what phillip said we need ) . also  there  is another computer back there that does not have much memory and we  ordered an upgrade for it ( jason ' s ) . i went ahead an did it so that they  would  be ready when the new employees come in .  maureen already has her upgrade .  shirley  vince j kaminski  12 / 18 / 2000 03 : 58 pm  to : shirley crenshaw / hou / ect @ ect  cc : vince j kaminski / hou / ect @ ect  subject : new pc with two 128 mb of ram  shirley ,  is this an upgrade for maureen ?  vince  - - - - - - - - - - - - - - - - - - - - - - forwarded by vince j kaminski / hou / ect on 12 / 18 / 2000  03 : 58 pm - - - - - - - - - - - - - - - - - - - - - - - - - - -  from : felix buitron jr . / enron @ enronxgate on 12 / 18 / 2000 02 : 27 pm  to : vince j kaminski / hou / ect @ ect  cc : shirley crenshaw / hou / ect @ ect  subject : new pc with two 128 mb of ram  vince , i have your new pc . i will get with you when i ' m done to schedule a  delivery time . i will need your network and notes password to test your apps .  thanks ,  felix\",\n",
       "       'Subject: re : real options  paul ,  we have done a lot of work in this area . i shall call you later  today ( monday my time ) , tuesday morning your time with  some recommendations .  vince  p . s . shirley , please send a real options binder to paul .  vince  from : paul smith @ enron _ development on 03 / 30 / 2001 08 : 42 am zel 0  to : vince j kaminski @ ect  cc : paul quilkey / enron _ development @ enron _ development , raymond  yeow / enron _ development @ enron _ development  subject : real options  vince ,  the sydney office is currently evaluating a proposal that involves an option  to participate in building a wind farm . should this proceed , we would like to  mark this option \" to market \" .  have the research group completed any work on methods for booking and  remarking real options ? alternatively , do you have any suggestions as to the  best way to value , and book , real options fairly ?  regards  paul smith',\n",
       "       'Subject: free original star wars cards adv :  own a unique , one - of - a - kind piece of star - wars history !  exclusively licensed fromlucas film ltd .  this innovative new collectible is the first to display an authentic one of kind 70 mm film frame from  the star wars / empire strikes back movie  containing a one of a kind 70 mm frame in a 7 - 1 / 2 \" x 2 - 3 / 4 \" diamond cut , acrylic ,  mint collector \\' s case .  fact : no two frames are alike  each film frame is a unique original and will never be reproduced .  each fully licensed original film frame is sealed and individually serial numbered with identification codes  tamper proof holographic seals to prevent fraudulent duplication .  # 50049 lightsaber duel special edition :  features the fantastic lightsaber duel between luke skywalker and darth vader .  this special edition # 50049 lightsaber duel was only available with the willitts premium package # 50707 ,  which sold in retail shops for $ 125 . 00 .  special , internet offer !  order now and receive the above rare special edition # 50049 lightsaber duel  for this special internet price of only $ 19 . 95 !  special bonus with your order , you will receive  10 original 1980 topps star wars / empire strikes back collector cards  absultely free !  these are original 1980 topps star wars / empire strikes back collector cards  from 22 years ago ! not reprints !  hurry ! please , respond now before our limited supplies are exhausted ! !  your film cell image may differ from the above sample .  click here !  you have received this email as an opted - in subscriber , if this is not the case , please click on the following link  to be permanently removed from our database .  please take me off this list  866 - 667 - 5399 nouce 16822 22 nd avenue northsaint petersburg , fl 33710 - 3918 ',\n",
       "       ...,\n",
       "       'Subject: re : from a previous summer intern  dear giuseppe :  unfortunately , i am no longer with the associate and analyst recruiting  department and will be unable to assist you directly . please contact tracy  warner , who is now responsible for recruiting . she will be able to assist  you directly . tracy can be contacted at tracy . warner @ enron . com . i would  also recommend having vince kaminski contact her as well to ensure that all  communications are in order .  best regards ,  celeste roberts  giuseppe andrea paleologo @ stanford . edu on 04 / 20 / 2001  01 : 53 : 39 pm  please respond to gappy @ stanford . edu  sent by : gappy @ stanford . edu  to : celeste roberts  cc :  subject : from a previous summer intern  celeste , my name is giuseppe a . paleologo and you amy remember me : i was  a summer intern last summer in the research group , and attended the  hiring event this year at stanford . in that occasion i had an informal  offer from vince kaminski , and the assurance that i would receive a  written one in the following two weeks , but since then i have not  received any letter from enron . i would like to know if the offer is  still valid , and if it has been sent . i am asking because i am in the  process of evaluating my offers , and would like to wait for enron before  i make my final decision .  thanks in advance ,  giuseppe paleologo  - -  giuseppe a . paleologo  email : gappy @ stanford . edu  office phone : ( 650 ) 725 - 0541',\n",
       "       \"Subject: free hgh - look 10 years younger in 3 weeks ! ! ! hmuprzd  free 30 day supply of hgh 1000 :  look younger and lose weight in 3 weeks ! ! ! !  as seen on nbc , cbs , cnn , and oprah ! the health discovery  that actually reverses aging while burning fat , without  dieting or exercise ! this proven discovery has been reported  on by the new england journal of medicine . forget aging and  dieting forever ! and it ' s guaranteed !  would you like to lose weight while you sleep ?  no dieting !  no hunger pains !  no cravings !  no strenuous exercise !  change your life forever !  100 % guaranteed  aol users click  here  to be removed , reply to this email with remove in the subject line .\",\n",
       "       \"Subject: re : london research group  richard ,  please , let me know what the timetable is . i would like to talk to anjam a  few days before  to break the news to him . i hope i can save him for the company and offer him  a position in houston .  we desperately need skills he has .  vince  richard lewis  07 / 27 / 2000 02 : 20 am  to : dale surbey / lon / ect @ ect  cc : john sherriff / lon / ect @ ect , vince j kaminski / hou / ect @ ect , grant  masson / hou / ect @ ect , stinson gibner / hou / ect @ ect , joe gold / lon / ect @ ect  subject : re : london research group  i agree with dale - no point in delaying .  dale surbey  27 / 07 / 2000 08 : 13  to : john sherriff / lon / ect @ ect  cc : vince j kaminski / hou / ect @ ect , richard lewis / lon / ect @ ect , grant  masson / hou / ect @ ect , stinson gibner / hou / ect @ ect , joe gold / lon / ect @ ect  subject : re : london research group  john ,  i propose accelerating steve ' s move to head the research group here . it  makes sense to include this as part of the mid - year prc process by giving him  a tangible reward along with his performance feedback .  thoughts ?  - dale  john sherriff  27 / 07 / 2000 06 : 44  to : vince j kaminski / hou / ect @ ect  cc : dale surbey / lon / ect @ ect , vince j kaminski / hou / ect @ ect , richard  lewis / lon / ect @ ect , grant masson / hou / ect @ ect , stinson gibner / hou / ect @ ect , joe  gold / lon / ect @ ect  subject : re : london research group  vince - i agree with your conclusion here . we are still trying to fill  dale ' s structuring role as well so part of the question is  how we announce steve ' s lead research role relative to when we know who will  take dale ' s spot . perhaps we should just  move forward with the steve announcement the day that dale moves full time to  ebs . i will ask richard lewis to take the lead  in working with you on finalizing the decision and communcicating the changes  to the organization .  but i do want to reinforce how pleased we are to have steve here . he is a  wonderfull asset to our efforts .  thanks !  john  vince j kaminski  26 / 07 / 2000 22 : 18  to : john sherriff / lon / ect @ ect  cc : dale surbey / lon / ect @ ect , vince j kaminski / hou / ect @ ect , richard  lewis / lon / ect @ ect , grant masson / hou / ect @ ect , stinson gibner / hou / ect @ ect  subject : london research group  john ,  i am writing to you regarding the management of the london research group .  as you know , dale surbey , who was managing the london unit of the research  group ,  is moving to ebs . dale did a terrific job helping me to develop the pool of  talent we have currently  in london .  given that dale is likely to be transfered to houston , it ' s time  to nominate one member of the research group for a management position .  my recommendation is steve leppard . steve emerged not only as the most  technically qualified member of the group but also as a natural leader ,  highly  respected by his peers and internal customers . steve has a very high energy  level  and is very efficient as a manager and as coach of new talent .  his promotion is likely to cause anjam ' s departure form enron . i value  technical  skills of anjam , but in spite of my loyalty to him , don ' t think he is the  same caliber  as steve . however , i would not like to lose him and think about moving him to  houston  for 2 years . i think that the opportunity to work in houston , would be a  sufficient  incentive to keep him in enron . by the way , his performance feedback has  greatly improved .  please , let me know what you think .  vince\"],\n",
       "      dtype=object)"
      ]
     },
     "execution_count": 16,
     "metadata": {},
     "output_type": "execute_result"
    }
   ],
   "source": [
    "xtrain"
   ]
  },
  {
   "cell_type": "markdown",
   "id": "396287b6-f63a-44a0-841b-0b17fbeaba74",
   "metadata": {},
   "source": [
    "# Data Preprocessing "
   ]
  },
  {
   "cell_type": "code",
   "execution_count": 17,
   "id": "3082dd8a-0c0c-4c34-b76a-d491a8a258c4",
   "metadata": {},
   "outputs": [],
   "source": [
    "from sklearn.feature_extraction.text import CountVectorizer"
   ]
  },
  {
   "cell_type": "code",
   "execution_count": 19,
   "id": "39b5dcd1-b3d9-4a1c-bac6-a34466e89d1c",
   "metadata": {},
   "outputs": [],
   "source": [
    "cv = CountVectorizer()\n",
    "x_train = cv.fit_transform(xtrain)"
   ]
  },
  {
   "cell_type": "code",
   "execution_count": 21,
   "id": "51422895-3273-40ba-b62a-a3b6d556127a",
   "metadata": {},
   "outputs": [
    {
     "data": {
      "text/plain": [
       "array([[0, 0, 0, ..., 0, 0, 0],\n",
       "       [0, 0, 0, ..., 0, 0, 0],\n",
       "       [1, 0, 0, ..., 0, 0, 0],\n",
       "       ...,\n",
       "       [0, 0, 0, ..., 0, 0, 0],\n",
       "       [0, 0, 0, ..., 0, 0, 0],\n",
       "       [0, 0, 0, ..., 0, 0, 0]], dtype=int64)"
      ]
     },
     "execution_count": 21,
     "metadata": {},
     "output_type": "execute_result"
    }
   ],
   "source": [
    "x_train.toarray()"
   ]
  },
  {
   "cell_type": "markdown",
   "id": "2d3440da-7448-4f61-8686-2c227e74d4e6",
   "metadata": {},
   "source": [
    "# Let's Try with Multinomial Naive Bayes"
   ]
  },
  {
   "cell_type": "code",
   "execution_count": 22,
   "id": "2e25e045-1dea-4cc0-ad13-1b7383b6c46b",
   "metadata": {},
   "outputs": [],
   "source": [
    "from sklearn.naive_bayes import MultinomialNB"
   ]
  },
  {
   "cell_type": "code",
   "execution_count": 23,
   "id": "437aac1b-9da6-4688-95a5-2185666239a3",
   "metadata": {},
   "outputs": [
    {
     "data": {
      "text/html": [
       "<style>#sk-container-id-1 {color: black;}#sk-container-id-1 pre{padding: 0;}#sk-container-id-1 div.sk-toggleable {background-color: white;}#sk-container-id-1 label.sk-toggleable__label {cursor: pointer;display: block;width: 100%;margin-bottom: 0;padding: 0.3em;box-sizing: border-box;text-align: center;}#sk-container-id-1 label.sk-toggleable__label-arrow:before {content: \"▸\";float: left;margin-right: 0.25em;color: #696969;}#sk-container-id-1 label.sk-toggleable__label-arrow:hover:before {color: black;}#sk-container-id-1 div.sk-estimator:hover label.sk-toggleable__label-arrow:before {color: black;}#sk-container-id-1 div.sk-toggleable__content {max-height: 0;max-width: 0;overflow: hidden;text-align: left;background-color: #f0f8ff;}#sk-container-id-1 div.sk-toggleable__content pre {margin: 0.2em;color: black;border-radius: 0.25em;background-color: #f0f8ff;}#sk-container-id-1 input.sk-toggleable__control:checked~div.sk-toggleable__content {max-height: 200px;max-width: 100%;overflow: auto;}#sk-container-id-1 input.sk-toggleable__control:checked~label.sk-toggleable__label-arrow:before {content: \"▾\";}#sk-container-id-1 div.sk-estimator input.sk-toggleable__control:checked~label.sk-toggleable__label {background-color: #d4ebff;}#sk-container-id-1 div.sk-label input.sk-toggleable__control:checked~label.sk-toggleable__label {background-color: #d4ebff;}#sk-container-id-1 input.sk-hidden--visually {border: 0;clip: rect(1px 1px 1px 1px);clip: rect(1px, 1px, 1px, 1px);height: 1px;margin: -1px;overflow: hidden;padding: 0;position: absolute;width: 1px;}#sk-container-id-1 div.sk-estimator {font-family: monospace;background-color: #f0f8ff;border: 1px dotted black;border-radius: 0.25em;box-sizing: border-box;margin-bottom: 0.5em;}#sk-container-id-1 div.sk-estimator:hover {background-color: #d4ebff;}#sk-container-id-1 div.sk-parallel-item::after {content: \"\";width: 100%;border-bottom: 1px solid gray;flex-grow: 1;}#sk-container-id-1 div.sk-label:hover label.sk-toggleable__label {background-color: #d4ebff;}#sk-container-id-1 div.sk-serial::before {content: \"\";position: absolute;border-left: 1px solid gray;box-sizing: border-box;top: 0;bottom: 0;left: 50%;z-index: 0;}#sk-container-id-1 div.sk-serial {display: flex;flex-direction: column;align-items: center;background-color: white;padding-right: 0.2em;padding-left: 0.2em;position: relative;}#sk-container-id-1 div.sk-item {position: relative;z-index: 1;}#sk-container-id-1 div.sk-parallel {display: flex;align-items: stretch;justify-content: center;background-color: white;position: relative;}#sk-container-id-1 div.sk-item::before, #sk-container-id-1 div.sk-parallel-item::before {content: \"\";position: absolute;border-left: 1px solid gray;box-sizing: border-box;top: 0;bottom: 0;left: 50%;z-index: -1;}#sk-container-id-1 div.sk-parallel-item {display: flex;flex-direction: column;z-index: 1;position: relative;background-color: white;}#sk-container-id-1 div.sk-parallel-item:first-child::after {align-self: flex-end;width: 50%;}#sk-container-id-1 div.sk-parallel-item:last-child::after {align-self: flex-start;width: 50%;}#sk-container-id-1 div.sk-parallel-item:only-child::after {width: 0;}#sk-container-id-1 div.sk-dashed-wrapped {border: 1px dashed gray;margin: 0 0.4em 0.5em 0.4em;box-sizing: border-box;padding-bottom: 0.4em;background-color: white;}#sk-container-id-1 div.sk-label label {font-family: monospace;font-weight: bold;display: inline-block;line-height: 1.2em;}#sk-container-id-1 div.sk-label-container {text-align: center;}#sk-container-id-1 div.sk-container {/* jupyter's `normalize.less` sets `[hidden] { display: none; }` but bootstrap.min.css set `[hidden] { display: none !important; }` so we also need the `!important` here to be able to override the default hidden behavior on the sphinx rendered scikit-learn.org. See: https://github.com/scikit-learn/scikit-learn/issues/21755 */display: inline-block !important;position: relative;}#sk-container-id-1 div.sk-text-repr-fallback {display: none;}</style><div id=\"sk-container-id-1\" class=\"sk-top-container\"><div class=\"sk-text-repr-fallback\"><pre>MultinomialNB()</pre><b>In a Jupyter environment, please rerun this cell to show the HTML representation or trust the notebook. <br />On GitHub, the HTML representation is unable to render, please try loading this page with nbviewer.org.</b></div><div class=\"sk-container\" hidden><div class=\"sk-item\"><div class=\"sk-estimator sk-toggleable\"><input class=\"sk-toggleable__control sk-hidden--visually\" id=\"sk-estimator-id-1\" type=\"checkbox\" checked><label for=\"sk-estimator-id-1\" class=\"sk-toggleable__label sk-toggleable__label-arrow\">MultinomialNB</label><div class=\"sk-toggleable__content\"><pre>MultinomialNB()</pre></div></div></div></div></div>"
      ],
      "text/plain": [
       "MultinomialNB()"
      ]
     },
     "execution_count": 23,
     "metadata": {},
     "output_type": "execute_result"
    }
   ],
   "source": [
    "model = MultinomialNB()\n",
    "model.fit(x_train, ytrain)  #now variable is x_train because we already done with preprocessing "
   ]
  },
  {
   "cell_type": "code",
   "execution_count": 24,
   "id": "1579c96e-3277-4dea-b0cd-d0dbe0738bf8",
   "metadata": {},
   "outputs": [],
   "source": [
    "x_test = cv.transform(xtest)"
   ]
  },
  {
   "cell_type": "code",
   "execution_count": 26,
   "id": "52f5fb77-d1ea-4480-8bb3-31fc2ff7ac75",
   "metadata": {},
   "outputs": [
    {
     "data": {
      "text/plain": [
       "array([[0, 0, 0, ..., 0, 0, 0],\n",
       "       [7, 0, 0, ..., 0, 0, 0],\n",
       "       [0, 3, 0, ..., 0, 0, 0],\n",
       "       ...,\n",
       "       [0, 0, 4, ..., 0, 0, 0],\n",
       "       [0, 0, 0, ..., 0, 0, 0],\n",
       "       [0, 0, 0, ..., 0, 0, 0]], dtype=int64)"
      ]
     },
     "execution_count": 26,
     "metadata": {},
     "output_type": "execute_result"
    }
   ],
   "source": [
    "x_test.toarray()"
   ]
  },
  {
   "cell_type": "code",
   "execution_count": 28,
   "id": "749cc5dd-706c-42b2-8715-da78df0e3bc5",
   "metadata": {},
   "outputs": [
    {
     "data": {
      "text/plain": [
       "0.9885864793678666"
      ]
     },
     "execution_count": 28,
     "metadata": {},
     "output_type": "execute_result"
    }
   ],
   "source": [
    "model.score(x_test,ytest)"
   ]
  },
  {
   "cell_type": "markdown",
   "id": "61a84a94-d366-4305-a1ee-43aadccb4d94",
   "metadata": {},
   "source": [
    "## Let's check with spam email"
   ]
  },
  {
   "cell_type": "code",
   "execution_count": 29,
   "id": "2227adc1-466e-4574-b781-5c87c777f82d",
   "metadata": {},
   "outputs": [],
   "source": [
    "emails = ['Hi, Good Day.!','Click on the given link to get a exciting gift.  spam.com']"
   ]
  },
  {
   "cell_type": "code",
   "execution_count": 32,
   "id": "163dfbdb-ad61-49c1-a3d2-6904663b89bb",
   "metadata": {},
   "outputs": [],
   "source": [
    "cv_emails = cv.transform(emails)"
   ]
  },
  {
   "cell_type": "code",
   "execution_count": 33,
   "id": "7959bf72-52d2-4c96-a5ea-cf9199d9eec8",
   "metadata": {},
   "outputs": [
    {
     "data": {
      "text/plain": [
       "array([0, 1], dtype=int64)"
      ]
     },
     "execution_count": 33,
     "metadata": {},
     "output_type": "execute_result"
    }
   ],
   "source": [
    "model.predict(cv_emails)"
   ]
  },
  {
   "cell_type": "markdown",
   "id": "951b1360-4e12-4c6e-9145-0e5abc7f29c0",
   "metadata": {},
   "source": [
    "### It means it's detecting 2nd string is spam"
   ]
  },
  {
   "cell_type": "code",
   "execution_count": 40,
   "id": "d85a4291-33c4-44c3-b101-03f4c9f180eb",
   "metadata": {},
   "outputs": [
    {
     "data": {
      "text/plain": [
       "array([0, 0], dtype=int64)"
      ]
     },
     "execution_count": 40,
     "metadata": {},
     "output_type": "execute_result"
    }
   ],
   "source": [
    "emails2 = ['Hi, Good Day.!',' How is your progress']\n",
    "cv_emails2 = cv.transform(emails2)\n",
    "model.predict(cv_emails2)"
   ]
  },
  {
   "cell_type": "markdown",
   "id": "9746bcb2-6eb0-4e83-84f8-7aae4760d0a0",
   "metadata": {},
   "source": [
    "### Now we can see its not spam in total"
   ]
  },
  {
   "cell_type": "code",
   "execution_count": null,
   "id": "06512d56-980d-44d5-84b2-b866016fc160",
   "metadata": {},
   "outputs": [],
   "source": []
  }
 ],
 "metadata": {
  "kernelspec": {
   "display_name": "Python 3 (ipykernel)",
   "language": "python",
   "name": "python3"
  },
  "language_info": {
   "codemirror_mode": {
    "name": "ipython",
    "version": 3
   },
   "file_extension": ".py",
   "mimetype": "text/x-python",
   "name": "python",
   "nbconvert_exporter": "python",
   "pygments_lexer": "ipython3",
   "version": "3.10.5"
  }
 },
 "nbformat": 4,
 "nbformat_minor": 5
}
