{
 "cells": [
  {
   "cell_type": "code",
   "execution_count": 1,
   "id": "59157204-e347-4dbf-a46f-be0be1b8c5f0",
   "metadata": {},
   "outputs": [],
   "source": [
    "from sklearn.feature_extraction.text import CountVectorizer"
   ]
  },
  {
   "cell_type": "code",
   "execution_count": 2,
   "id": "a9b78ba8-d48d-4357-84f9-4fa825341666",
   "metadata": {},
   "outputs": [],
   "source": [
    "dataset = ['Hello, this is Anik Sen',\n",
    "           'GRA at MMU, Malacca',\n",
    "           'Hello, do you hear me ?',\n",
    "           'Ok, see you later']"
   ]
  },
  {
   "cell_type": "code",
   "execution_count": 3,
   "id": "144a803b-4770-4d93-89f5-9342d36ecde6",
   "metadata": {},
   "outputs": [],
   "source": [
    "cv = CountVectorizer()"
   ]
  },
  {
   "cell_type": "code",
   "execution_count": 4,
   "id": "93b7896e-f36a-4e3b-aa8c-a80ec10d8a6c",
   "metadata": {},
   "outputs": [],
   "source": [
    "x = cv.fit_transform(dataset)"
   ]
  },
  {
   "cell_type": "code",
   "execution_count": 12,
   "id": "912895d6-7239-4b79-a16e-24c072304650",
   "metadata": {},
   "outputs": [
    {
     "data": {
      "text/plain": [
       "array(['anik', 'at', 'do', 'gra', 'hear', 'hello', 'is', 'later',\n",
       "       'malacca', 'me', 'mmu', 'ok', 'see', 'sen', 'this', 'you'],\n",
       "      dtype=object)"
      ]
     },
     "execution_count": 12,
     "metadata": {},
     "output_type": "execute_result"
    }
   ],
   "source": [
    "cv.get_feature_names_out()"
   ]
  },
  {
   "cell_type": "code",
   "execution_count": 14,
   "id": "8c28c04f-6162-4b18-b9b3-d0ab6d45ed6f",
   "metadata": {},
   "outputs": [
    {
     "data": {
      "text/plain": [
       "array([[1, 0, 0, 0, 0, 1, 1, 0, 0, 0, 0, 0, 0, 1, 1, 0],\n",
       "       [0, 1, 0, 1, 0, 0, 0, 0, 1, 0, 1, 0, 0, 0, 0, 0],\n",
       "       [0, 0, 1, 0, 1, 1, 0, 0, 0, 1, 0, 0, 0, 0, 0, 1],\n",
       "       [0, 0, 0, 0, 0, 0, 0, 1, 0, 0, 0, 1, 1, 0, 0, 1]], dtype=int64)"
      ]
     },
     "execution_count": 14,
     "metadata": {},
     "output_type": "execute_result"
    }
   ],
   "source": [
    "x.toarray()"
   ]
  },
  {
   "cell_type": "code",
   "execution_count": null,
   "id": "baef83a3-13a7-4c52-afca-675a9de4a09f",
   "metadata": {},
   "outputs": [],
   "source": []
  }
 ],
 "metadata": {
  "kernelspec": {
   "display_name": "Python 3 (ipykernel)",
   "language": "python",
   "name": "python3"
  },
  "language_info": {
   "codemirror_mode": {
    "name": "ipython",
    "version": 3
   },
   "file_extension": ".py",
   "mimetype": "text/x-python",
   "name": "python",
   "nbconvert_exporter": "python",
   "pygments_lexer": "ipython3",
   "version": "3.10.5"
  }
 },
 "nbformat": 4,
 "nbformat_minor": 5
}
