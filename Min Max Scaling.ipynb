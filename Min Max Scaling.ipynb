{
 "cells": [
  {
   "cell_type": "markdown",
   "id": "4127b68c-65fc-4a9e-9401-eeb8832e27c7",
   "metadata": {},
   "source": [
    "# Raw Code"
   ]
  },
  {
   "cell_type": "code",
   "execution_count": 1,
   "id": "11ba3585-6515-4c57-9a21-b5bb17068d08",
   "metadata": {},
   "outputs": [],
   "source": [
    "def min_max_scaling(data):\n",
    "    min_val = min(data)\n",
    "    max_val = max(data)\n",
    "    scaled_data  = [(x - min_val) / (max_val - min_val) for x in data ]\n",
    "    return scaled_data"
   ]
  },
  {
   "cell_type": "code",
   "execution_count": 4,
   "id": "ce8600d1-e148-4581-888c-24f6aad50df1",
   "metadata": {},
   "outputs": [
    {
     "name": "stdout",
     "output_type": "stream",
     "text": [
      "Original Data:  [1, 20, 30, 4, 5]\n",
      "Sccaled Data (raw):  [0.0, 0.6551724137931034, 1.0, 0.10344827586206896, 0.13793103448275862]\n"
     ]
    }
   ],
   "source": [
    "data = [1,20,30,4,5]\n",
    "scaled_data = min_max_scaling(data)\n",
    "print('Original Data: ', data)\n",
    "print('Sccaled Data (raw): ', scaled_data)"
   ]
  },
  {
   "cell_type": "markdown",
   "id": "db1e71e5-9c38-4b84-be26-094f5b411cbd",
   "metadata": {},
   "source": [
    "# Using Sklearn"
   ]
  },
  {
   "cell_type": "code",
   "execution_count": 5,
   "id": "2de3718f-6465-447c-ad30-8356e6ea40c7",
   "metadata": {},
   "outputs": [],
   "source": [
    "import pandas as pd\n",
    "from sklearn.preprocessing import MinMaxScaler "
   ]
  },
  {
   "cell_type": "code",
   "execution_count": 6,
   "id": "9d1f2bd4-89a3-48a6-a9f2-956133e88df2",
   "metadata": {},
   "outputs": [
    {
     "data": {
      "text/html": [
       "<div>\n",
       "<style scoped>\n",
       "    .dataframe tbody tr th:only-of-type {\n",
       "        vertical-align: middle;\n",
       "    }\n",
       "\n",
       "    .dataframe tbody tr th {\n",
       "        vertical-align: top;\n",
       "    }\n",
       "\n",
       "    .dataframe thead th {\n",
       "        text-align: right;\n",
       "    }\n",
       "</style>\n",
       "<table border=\"1\" class=\"dataframe\">\n",
       "  <thead>\n",
       "    <tr style=\"text-align: right;\">\n",
       "      <th></th>\n",
       "      <th>Feature1</th>\n",
       "      <th>Feature2</th>\n",
       "    </tr>\n",
       "  </thead>\n",
       "  <tbody>\n",
       "    <tr>\n",
       "      <th>0</th>\n",
       "      <td>1</td>\n",
       "      <td>6</td>\n",
       "    </tr>\n",
       "    <tr>\n",
       "      <th>1</th>\n",
       "      <td>5</td>\n",
       "      <td>7</td>\n",
       "    </tr>\n",
       "    <tr>\n",
       "      <th>2</th>\n",
       "      <td>10</td>\n",
       "      <td>8</td>\n",
       "    </tr>\n",
       "    <tr>\n",
       "      <th>3</th>\n",
       "      <td>4</td>\n",
       "      <td>19</td>\n",
       "    </tr>\n",
       "    <tr>\n",
       "      <th>4</th>\n",
       "      <td>5</td>\n",
       "      <td>10</td>\n",
       "    </tr>\n",
       "  </tbody>\n",
       "</table>\n",
       "</div>"
      ],
      "text/plain": [
       "   Feature1  Feature2\n",
       "0         1         6\n",
       "1         5         7\n",
       "2        10         8\n",
       "3         4        19\n",
       "4         5        10"
      ]
     },
     "execution_count": 6,
     "metadata": {},
     "output_type": "execute_result"
    }
   ],
   "source": [
    "data = {'Feature1' : [1,5,10,4,5],\n",
    "        'Feature2' : [6,7,8,19,10]}\n",
    "df = pd.DataFrame(data)\n",
    "df.head()"
   ]
  },
  {
   "cell_type": "code",
   "execution_count": 7,
   "id": "6742ffae-00f1-47dd-b50c-d3d7c8aebb91",
   "metadata": {},
   "outputs": [],
   "source": [
    "scaler = MinMaxScaler()\n",
    "scaled_data = scaler.fit_transform(df)\n",
    "scaled_df = pd.DataFrame(scaled_data, columns = df.columns)"
   ]
  },
  {
   "cell_type": "code",
   "execution_count": 12,
   "id": "eac7c663-c244-467e-ad13-d6ea7224e002",
   "metadata": {},
   "outputs": [
    {
     "name": "stdout",
     "output_type": "stream",
     "text": [
      "Original DataFrame: \n",
      "    Feature1  Feature2\n",
      "0         1         6\n",
      "1         5         7\n",
      "2        10         8\n",
      "3         4        19\n",
      "4         5        10\n",
      "\n",
      "Sccaled DataFrame: \n",
      "    Feature1  Feature2\n",
      "0  0.000000  0.000000\n",
      "1  0.444444  0.076923\n",
      "2  1.000000  0.153846\n",
      "3  0.333333  1.000000\n",
      "4  0.444444  0.307692\n"
     ]
    }
   ],
   "source": [
    "print('Original DataFrame: \\n', df)\n",
    "print('\\nSccaled DataFrame: \\n', scaled_df)"
   ]
  },
  {
   "cell_type": "code",
   "execution_count": null,
   "id": "d1f2f344-d7a2-4a07-980d-8fa8a68492f8",
   "metadata": {},
   "outputs": [],
   "source": []
  }
 ],
 "metadata": {
  "kernelspec": {
   "display_name": "Python 3 (ipykernel)",
   "language": "python",
   "name": "python3"
  },
  "language_info": {
   "codemirror_mode": {
    "name": "ipython",
    "version": 3
   },
   "file_extension": ".py",
   "mimetype": "text/x-python",
   "name": "python",
   "nbconvert_exporter": "python",
   "pygments_lexer": "ipython3",
   "version": "3.10.5"
  }
 },
 "nbformat": 4,
 "nbformat_minor": 5
}
