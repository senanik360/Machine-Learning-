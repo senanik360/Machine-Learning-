{
 "cells": [
  {
   "cell_type": "code",
   "execution_count": 85,
   "id": "e9f39526-4edd-4dba-affb-b87b1853591e",
   "metadata": {},
   "outputs": [],
   "source": [
    "import pandas as pd\n",
    "import numpy as np \n",
    "import matplotlib.pyplot as plt"
   ]
  },
  {
   "cell_type": "code",
   "execution_count": 86,
   "id": "4f33564e-9706-41e7-8f48-ad49663fc906",
   "metadata": {},
   "outputs": [
    {
     "data": {
      "text/html": [
       "<div>\n",
       "<style scoped>\n",
       "    .dataframe tbody tr th:only-of-type {\n",
       "        vertical-align: middle;\n",
       "    }\n",
       "\n",
       "    .dataframe tbody tr th {\n",
       "        vertical-align: top;\n",
       "    }\n",
       "\n",
       "    .dataframe thead th {\n",
       "        text-align: right;\n",
       "    }\n",
       "</style>\n",
       "<table border=\"1\" class=\"dataframe\">\n",
       "  <thead>\n",
       "    <tr style=\"text-align: right;\">\n",
       "      <th></th>\n",
       "      <th>x</th>\n",
       "      <th>y</th>\n",
       "    </tr>\n",
       "  </thead>\n",
       "  <tbody>\n",
       "    <tr>\n",
       "      <th>0</th>\n",
       "      <td>48.955889</td>\n",
       "      <td>60.723602</td>\n",
       "    </tr>\n",
       "    <tr>\n",
       "      <th>1</th>\n",
       "      <td>44.687196</td>\n",
       "      <td>82.892504</td>\n",
       "    </tr>\n",
       "    <tr>\n",
       "      <th>2</th>\n",
       "      <td>60.297327</td>\n",
       "      <td>97.379897</td>\n",
       "    </tr>\n",
       "    <tr>\n",
       "      <th>3</th>\n",
       "      <td>45.618644</td>\n",
       "      <td>48.847153</td>\n",
       "    </tr>\n",
       "    <tr>\n",
       "      <th>4</th>\n",
       "      <td>38.816818</td>\n",
       "      <td>56.877213</td>\n",
       "    </tr>\n",
       "  </tbody>\n",
       "</table>\n",
       "</div>"
      ],
      "text/plain": [
       "           x          y\n",
       "0  48.955889  60.723602\n",
       "1  44.687196  82.892504\n",
       "2  60.297327  97.379897\n",
       "3  45.618644  48.847153\n",
       "4  38.816818  56.877213"
      ]
     },
     "execution_count": 86,
     "metadata": {},
     "output_type": "execute_result"
    }
   ],
   "source": [
    "df = pd.read_csv(\"home data.csv\");\n",
    "df.head()"
   ]
  },
  {
   "cell_type": "code",
   "execution_count": 87,
   "id": "e9bbf182-bcd8-4776-9798-6e2d02d8c0c0",
   "metadata": {},
   "outputs": [
    {
     "data": {
      "text/plain": [
       "(99, 2)"
      ]
     },
     "execution_count": 87,
     "metadata": {},
     "output_type": "execute_result"
    }
   ],
   "source": [
    "df.shape"
   ]
  },
  {
   "cell_type": "code",
   "execution_count": 88,
   "id": "26985a9b-e5f9-4821-a1a3-e3cd03ce7ca1",
   "metadata": {},
   "outputs": [],
   "source": [
    "x = df ['x']\n",
    "y = df ['y']"
   ]
  },
  {
   "cell_type": "markdown",
   "id": "f4bb7214-ec11-4ed2-bdf7-a6829fc63352",
   "metadata": {},
   "source": [
    "# Gradient descent in machine learning "
   ]
  },
  {
   "cell_type": "markdown",
   "id": "ffff2b6b-e279-4b38-ae48-bfa613acc0da",
   "metadata": {},
   "source": [
    "### First step"
   ]
  },
  {
   "cell_type": "code",
   "execution_count": 89,
   "id": "fd0489ed-d58f-41b5-9f2d-16eda42add0f",
   "metadata": {},
   "outputs": [
    {
     "name": "stdout",
     "output_type": "stream",
     "text": [
      "m :  0 \n",
      "c :  0\n"
     ]
    }
   ],
   "source": [
    "m = 0\n",
    "c = 0\n",
    "learning_rate = 0.001\n",
    "\n",
    "n = int(len(x))\n",
    "\n",
    "iterations = 1000\n",
    "print(\"m : \",m,\"\\nc : \",c)"
   ]
  },
  {
   "cell_type": "markdown",
   "id": "84b8d350-d46f-4bcd-9fe5-8a175a740e4a",
   "metadata": {},
   "source": [
    "### Second step"
   ]
  },
  {
   "cell_type": "code",
   "execution_count": 90,
   "id": "57857c7d-34b6-4d0e-a0e8-805277f75b27",
   "metadata": {},
   "outputs": [
    {
     "name": "stdout",
     "output_type": "stream",
     "text": [
      "m :  nan\n",
      "c :  nan\n"
     ]
    }
   ],
   "source": [
    "for i in range(iterations):\n",
    "    y_prediction = m*x+c\n",
    "    derivatives_m = (-2/n) * sum(x*(y-y_prediction))\n",
    "    derivatives_c = (-2/n) * sum((y-y_prediction))\n",
    "    ### Final Step\n",
    "    m = m - learning_rate * derivatives_m\n",
    "    c = c - learning_rate * derivatives_c\n",
    "  #  print(m,c)\n",
    "print(\"m : \",m)\n",
    "print(\"c : \",c)"
   ]
  },
  {
   "cell_type": "markdown",
   "id": "cd338a49-bd97-4329-9da4-5c25279045d0",
   "metadata": {},
   "source": [
    "## Make Prediction"
   ]
  },
  {
   "cell_type": "code",
   "execution_count": 76,
   "id": "6c91d3c4-fd25-4230-9340-30820a8008be",
   "metadata": {},
   "outputs": [],
   "source": [
    "# x = float(input(\"Enter any value of x : \"))\n",
    "x = 48"
   ]
  },
  {
   "cell_type": "code",
   "execution_count": 77,
   "id": "639aebe0-19c7-42a9-abaf-f2de507d18ac",
   "metadata": {},
   "outputs": [
    {
     "name": "stdout",
     "output_type": "stream",
     "text": [
      " y :  363.79242898669054\n"
     ]
    }
   ],
   "source": [
    "#y = mx+c\n",
    "y = 7.424335285442663 * x + 7.424335285442663\n",
    "print(\" y : \",y)"
   ]
  },
  {
   "cell_type": "code",
   "execution_count": null,
   "id": "05516b0f-1c34-44b3-95f1-4d69b9fdd4c4",
   "metadata": {},
   "outputs": [],
   "source": []
  },
  {
   "cell_type": "code",
   "execution_count": null,
   "id": "14c169f9-533b-4dcf-9772-c4b45fe58efa",
   "metadata": {},
   "outputs": [],
   "source": []
  }
 ],
 "metadata": {
  "kernelspec": {
   "display_name": "Python 3 (ipykernel)",
   "language": "python",
   "name": "python3"
  },
  "language_info": {
   "codemirror_mode": {
    "name": "ipython",
    "version": 3
   },
   "file_extension": ".py",
   "mimetype": "text/x-python",
   "name": "python",
   "nbconvert_exporter": "python",
   "pygments_lexer": "ipython3",
   "version": "3.10.5"
  }
 },
 "nbformat": 4,
 "nbformat_minor": 5
}
